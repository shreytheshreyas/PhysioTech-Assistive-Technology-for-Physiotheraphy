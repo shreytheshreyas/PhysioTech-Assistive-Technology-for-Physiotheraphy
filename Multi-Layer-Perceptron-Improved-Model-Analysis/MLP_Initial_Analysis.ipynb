{
 "cells": [
  {
   "cell_type": "markdown",
   "id": "a4ab3702-d597-42ce-8fed-06480f99bc81",
   "metadata": {},
   "source": [
    "# 1. <u>Importing Necessary Libraries </u>"
   ]
  },
  {
   "cell_type": "code",
   "execution_count": 60,
   "id": "41bc663c-f521-4981-9981-043dbc0430dd",
   "metadata": {},
   "outputs": [],
   "source": [
    "import numpy as np\n",
    "import pandas as pd\n",
    "import os\n",
    "import tensorflow as tf\n",
    "from sklearn.model_selection import train_test_split\n",
    "from keras.utils import to_categorical\n",
    "from tensorflow.keras.layers import Dense\n",
    "from tensorflow.keras.optimizers import Adam\n",
    "from tensorflow.keras.callbacks import EarlyStopping, ReduceLROnPlateau\n",
    "from sklearn.metrics import classification_report, accuracy_score\n",
    "import matplotlib.pyplot as plt"
   ]
  },
  {
   "cell_type": "markdown",
   "id": "5098306e-fad4-4329-9620-0479d277d706",
   "metadata": {},
   "source": [
    "# 2. <u>Data Preprocessing Phases</u>"
   ]
  },
  {
   "cell_type": "code",
   "execution_count": 38,
   "id": "7400190c-4b75-407b-900c-94c5d3ea462c",
   "metadata": {},
   "outputs": [
    {
     "name": "stdout",
     "output_type": "stream",
     "text": [
      "            x0        y0        z0        x1        y1        z1        x2  \\\n",
      "0    -0.175628  0.204000  2.892272 -0.179617  0.523022  2.860681 -0.181976   \n",
      "1    -0.174483  0.203843  2.891971 -0.176972  0.523468  2.860984 -0.177624   \n",
      "2    -0.173419  0.203856  2.891706 -0.175530  0.524267  2.861188 -0.176301   \n",
      "3    -0.146659 -0.025146  2.835408 -0.146157  0.277126  2.796138 -0.144050   \n",
      "4    -0.118631 -0.259484  2.783743 -0.114505  0.024387  2.733085 -0.110170   \n",
      "...        ...       ...       ...       ...       ...       ...       ...   \n",
      "1152 -0.031074 -0.213648  2.380406 -0.034692  0.044911  2.398920 -0.036498   \n",
      "1153 -0.029033 -0.214632  2.382608 -0.031775  0.044897  2.401066 -0.033274   \n",
      "1154 -0.028023 -0.214859  2.384013 -0.030562  0.044744  2.401859 -0.032316   \n",
      "1155 -0.028775 -0.215633  2.383122 -0.032645  0.043769  2.401059 -0.037751   \n",
      "1156 -0.031986 -0.214297  2.380302 -0.035529  0.043504  2.399566 -0.040458   \n",
      "\n",
      "            y2        z2        x3  ...       z23       x24       y24  \\\n",
      "0     0.832459  2.817451 -0.177704  ...  2.824489  0.013450  0.157512   \n",
      "1     0.833758  2.818942 -0.174886  ...  2.812625  0.013064  0.147611   \n",
      "2     0.835714  2.819813 -0.171011  ...  2.810357  0.010539  0.150440   \n",
      "3     0.571358  2.746070 -0.134127  ...  2.570106  0.031963 -0.021461   \n",
      "4     0.300262  2.668277 -0.095752  ...  2.325600  0.057893 -0.183025   \n",
      "...        ...       ...       ...  ...       ...       ...       ...   \n",
      "1152  0.297552  2.407399 -0.033854  ...  2.100055  0.117461  0.257843   \n",
      "1153  0.298757  2.408886 -0.037971  ...  2.264719  0.012311  0.365534   \n",
      "1154  0.298115  2.408923 -0.039493  ...  2.244769  0.007820  0.395856   \n",
      "1155  0.297223  2.407646 -0.039133  ...  2.045183  0.149272  0.220268   \n",
      "1156  0.295308  2.407184 -0.038450  ...  1.967371  0.161509 -0.038892   \n",
      "\n",
      "           z24  stand  stand-frame  sit  chair  wheelchair  gestureLabel  \n",
      "0     2.799201    1.0          0.0  0.0    0.0         0.0           1.0  \n",
      "1     2.782450    1.0          0.0  0.0    0.0         0.0           1.0  \n",
      "2     2.793991    1.0          0.0  0.0    0.0         0.0           1.0  \n",
      "3     2.552330    0.5          0.0  0.0    0.5         0.0           1.0  \n",
      "4     2.328179    0.0          0.0  0.0    1.0         0.0           1.0  \n",
      "...        ...    ...          ...  ...    ...         ...           ...  \n",
      "1152  2.100058    0.0          0.0  0.0    0.0         1.0           0.0  \n",
      "1153  2.229092    0.0          0.0  0.0    0.0         1.0           0.0  \n",
      "1154  2.206886    0.0          0.0  0.0    0.0         1.0           0.0  \n",
      "1155  2.055121    0.0          0.0  0.0    0.0         1.0           0.0  \n",
      "1156  1.988213    0.0          0.0  0.0    0.0         1.0           0.0  \n",
      "\n",
      "[13799 rows x 81 columns]\n"
     ]
    }
   ],
   "source": [
    "df = pd.DataFrame()\n",
    "\n",
    "directory = './AggregatedDataset/'\n",
    "for filename in os.listdir(directory):\n",
    "    if filename[0] == '.':\n",
    "        continue\n",
    "    f = os.path.join(directory, filename)\n",
    "    # checking if it is a file\n",
    "    if os.path.isfile(f):\n",
    "        temp = pd.read_csv(f)\n",
    "        df = pd.concat([df, temp])\n",
    "\n",
    "print(df)"
   ]
  },
  {
   "cell_type": "code",
   "execution_count": 39,
   "id": "48e484bc-c005-47ab-8b85-ce6747806314",
   "metadata": {},
   "outputs": [
    {
     "data": {
      "text/html": [
       "<div>\n",
       "<style scoped>\n",
       "    .dataframe tbody tr th:only-of-type {\n",
       "        vertical-align: middle;\n",
       "    }\n",
       "\n",
       "    .dataframe tbody tr th {\n",
       "        vertical-align: top;\n",
       "    }\n",
       "\n",
       "    .dataframe thead th {\n",
       "        text-align: right;\n",
       "    }\n",
       "</style>\n",
       "<table border=\"1\" class=\"dataframe\">\n",
       "  <thead>\n",
       "    <tr style=\"text-align: right;\">\n",
       "      <th></th>\n",
       "      <th>x0_0</th>\n",
       "      <th>y0_0</th>\n",
       "      <th>z0_0</th>\n",
       "      <th>x1_0</th>\n",
       "      <th>y1_0</th>\n",
       "      <th>z1_0</th>\n",
       "      <th>x2_0</th>\n",
       "      <th>y2_0</th>\n",
       "      <th>z2_0</th>\n",
       "      <th>x3_0</th>\n",
       "      <th>...</th>\n",
       "      <th>x22_14</th>\n",
       "      <th>y22_14</th>\n",
       "      <th>z22_14</th>\n",
       "      <th>x23_14</th>\n",
       "      <th>y23_14</th>\n",
       "      <th>z23_14</th>\n",
       "      <th>x24_14</th>\n",
       "      <th>y24_14</th>\n",
       "      <th>z24_14</th>\n",
       "      <th>gestureLabel</th>\n",
       "    </tr>\n",
       "  </thead>\n",
       "  <tbody>\n",
       "    <tr>\n",
       "      <th>0</th>\n",
       "      <td>-0.204509</td>\n",
       "      <td>-0.231852</td>\n",
       "      <td>2.754740</td>\n",
       "      <td>-0.183313</td>\n",
       "      <td>0.021745</td>\n",
       "      <td>2.722442</td>\n",
       "      <td>-0.160604</td>\n",
       "      <td>0.269536</td>\n",
       "      <td>2.678496</td>\n",
       "      <td>-0.150488</td>\n",
       "      <td>...</td>\n",
       "      <td>-0.294275</td>\n",
       "      <td>-0.228529</td>\n",
       "      <td>2.467200</td>\n",
       "      <td>0.051053</td>\n",
       "      <td>0.284080</td>\n",
       "      <td>2.547323</td>\n",
       "      <td>0.084085</td>\n",
       "      <td>0.233071</td>\n",
       "      <td>2.580800</td>\n",
       "      <td>0.0</td>\n",
       "    </tr>\n",
       "    <tr>\n",
       "      <th>1</th>\n",
       "      <td>-0.205910</td>\n",
       "      <td>-0.231284</td>\n",
       "      <td>2.753148</td>\n",
       "      <td>-0.183092</td>\n",
       "      <td>0.022023</td>\n",
       "      <td>2.721940</td>\n",
       "      <td>-0.157748</td>\n",
       "      <td>0.269648</td>\n",
       "      <td>2.678936</td>\n",
       "      <td>-0.148618</td>\n",
       "      <td>...</td>\n",
       "      <td>-0.322549</td>\n",
       "      <td>-0.229593</td>\n",
       "      <td>2.531100</td>\n",
       "      <td>-0.000089</td>\n",
       "      <td>0.298676</td>\n",
       "      <td>2.598341</td>\n",
       "      <td>0.024250</td>\n",
       "      <td>0.252613</td>\n",
       "      <td>2.579778</td>\n",
       "      <td>0.0</td>\n",
       "    </tr>\n",
       "    <tr>\n",
       "      <th>2</th>\n",
       "      <td>-0.206187</td>\n",
       "      <td>-0.230854</td>\n",
       "      <td>2.752944</td>\n",
       "      <td>-0.181606</td>\n",
       "      <td>0.022386</td>\n",
       "      <td>2.722124</td>\n",
       "      <td>-0.154308</td>\n",
       "      <td>0.269743</td>\n",
       "      <td>2.679503</td>\n",
       "      <td>-0.146234</td>\n",
       "      <td>...</td>\n",
       "      <td>-0.312972</td>\n",
       "      <td>-0.244179</td>\n",
       "      <td>2.513334</td>\n",
       "      <td>0.077471</td>\n",
       "      <td>0.253935</td>\n",
       "      <td>2.508044</td>\n",
       "      <td>0.110522</td>\n",
       "      <td>0.192595</td>\n",
       "      <td>2.562273</td>\n",
       "      <td>0.0</td>\n",
       "    </tr>\n",
       "    <tr>\n",
       "      <th>3</th>\n",
       "      <td>-0.206352</td>\n",
       "      <td>-0.229995</td>\n",
       "      <td>2.752958</td>\n",
       "      <td>-0.179751</td>\n",
       "      <td>0.022750</td>\n",
       "      <td>2.722315</td>\n",
       "      <td>-0.150479</td>\n",
       "      <td>0.269884</td>\n",
       "      <td>2.679807</td>\n",
       "      <td>-0.144726</td>\n",
       "      <td>...</td>\n",
       "      <td>-0.291575</td>\n",
       "      <td>-0.203919</td>\n",
       "      <td>2.489133</td>\n",
       "      <td>0.225467</td>\n",
       "      <td>-0.076853</td>\n",
       "      <td>2.423342</td>\n",
       "      <td>0.153054</td>\n",
       "      <td>-0.086606</td>\n",
       "      <td>2.446333</td>\n",
       "      <td>0.0</td>\n",
       "    </tr>\n",
       "    <tr>\n",
       "      <th>4</th>\n",
       "      <td>-0.206131</td>\n",
       "      <td>-0.228837</td>\n",
       "      <td>2.753482</td>\n",
       "      <td>-0.178426</td>\n",
       "      <td>0.023735</td>\n",
       "      <td>2.722597</td>\n",
       "      <td>-0.148413</td>\n",
       "      <td>0.270744</td>\n",
       "      <td>2.680139</td>\n",
       "      <td>-0.143232</td>\n",
       "      <td>...</td>\n",
       "      <td>-0.211119</td>\n",
       "      <td>-0.166091</td>\n",
       "      <td>2.883111</td>\n",
       "      <td>0.124102</td>\n",
       "      <td>-0.292121</td>\n",
       "      <td>3.011770</td>\n",
       "      <td>0.076095</td>\n",
       "      <td>-0.245350</td>\n",
       "      <td>3.013428</td>\n",
       "      <td>0.0</td>\n",
       "    </tr>\n",
       "    <tr>\n",
       "      <th>...</th>\n",
       "      <td>...</td>\n",
       "      <td>...</td>\n",
       "      <td>...</td>\n",
       "      <td>...</td>\n",
       "      <td>...</td>\n",
       "      <td>...</td>\n",
       "      <td>...</td>\n",
       "      <td>...</td>\n",
       "      <td>...</td>\n",
       "      <td>...</td>\n",
       "      <td>...</td>\n",
       "      <td>...</td>\n",
       "      <td>...</td>\n",
       "      <td>...</td>\n",
       "      <td>...</td>\n",
       "      <td>...</td>\n",
       "      <td>...</td>\n",
       "      <td>...</td>\n",
       "      <td>...</td>\n",
       "      <td>...</td>\n",
       "      <td>...</td>\n",
       "    </tr>\n",
       "    <tr>\n",
       "      <th>32683</th>\n",
       "      <td>-0.219653</td>\n",
       "      <td>-0.105181</td>\n",
       "      <td>2.018542</td>\n",
       "      <td>-0.223143</td>\n",
       "      <td>0.185314</td>\n",
       "      <td>1.958439</td>\n",
       "      <td>-0.223866</td>\n",
       "      <td>0.465150</td>\n",
       "      <td>1.885464</td>\n",
       "      <td>-0.216167</td>\n",
       "      <td>...</td>\n",
       "      <td>-0.226217</td>\n",
       "      <td>-0.018966</td>\n",
       "      <td>2.595732</td>\n",
       "      <td>0.122220</td>\n",
       "      <td>-0.112569</td>\n",
       "      <td>2.738988</td>\n",
       "      <td>0.092191</td>\n",
       "      <td>-0.062385</td>\n",
       "      <td>2.698345</td>\n",
       "      <td>8.0</td>\n",
       "    </tr>\n",
       "    <tr>\n",
       "      <th>32684</th>\n",
       "      <td>-0.154176</td>\n",
       "      <td>-0.093990</td>\n",
       "      <td>2.064927</td>\n",
       "      <td>-0.139104</td>\n",
       "      <td>0.218614</td>\n",
       "      <td>2.044824</td>\n",
       "      <td>-0.122276</td>\n",
       "      <td>0.519363</td>\n",
       "      <td>2.010910</td>\n",
       "      <td>-0.112494</td>\n",
       "      <td>...</td>\n",
       "      <td>-0.216650</td>\n",
       "      <td>-0.070948</td>\n",
       "      <td>2.321689</td>\n",
       "      <td>0.162953</td>\n",
       "      <td>-0.145700</td>\n",
       "      <td>2.378738</td>\n",
       "      <td>0.126439</td>\n",
       "      <td>-0.092569</td>\n",
       "      <td>2.354894</td>\n",
       "      <td>8.0</td>\n",
       "    </tr>\n",
       "    <tr>\n",
       "      <th>32685</th>\n",
       "      <td>0.101330</td>\n",
       "      <td>-0.366173</td>\n",
       "      <td>2.099115</td>\n",
       "      <td>0.149896</td>\n",
       "      <td>-0.034787</td>\n",
       "      <td>2.102345</td>\n",
       "      <td>0.194262</td>\n",
       "      <td>0.284618</td>\n",
       "      <td>2.090462</td>\n",
       "      <td>0.205277</td>\n",
       "      <td>...</td>\n",
       "      <td>-0.084552</td>\n",
       "      <td>-0.367176</td>\n",
       "      <td>1.956440</td>\n",
       "      <td>0.439100</td>\n",
       "      <td>-0.409055</td>\n",
       "      <td>2.031457</td>\n",
       "      <td>0.437779</td>\n",
       "      <td>-0.307294</td>\n",
       "      <td>1.968705</td>\n",
       "      <td>8.0</td>\n",
       "    </tr>\n",
       "    <tr>\n",
       "      <th>32686</th>\n",
       "      <td>-0.262099</td>\n",
       "      <td>0.046881</td>\n",
       "      <td>2.249739</td>\n",
       "      <td>-0.261621</td>\n",
       "      <td>0.337878</td>\n",
       "      <td>2.193943</td>\n",
       "      <td>-0.257131</td>\n",
       "      <td>0.618980</td>\n",
       "      <td>2.128328</td>\n",
       "      <td>-0.264669</td>\n",
       "      <td>...</td>\n",
       "      <td>-0.445879</td>\n",
       "      <td>0.036046</td>\n",
       "      <td>2.029431</td>\n",
       "      <td>0.041998</td>\n",
       "      <td>0.010592</td>\n",
       "      <td>2.118642</td>\n",
       "      <td>0.055779</td>\n",
       "      <td>0.060975</td>\n",
       "      <td>2.059983</td>\n",
       "      <td>8.0</td>\n",
       "    </tr>\n",
       "    <tr>\n",
       "      <th>32687</th>\n",
       "      <td>-0.176911</td>\n",
       "      <td>-0.310305</td>\n",
       "      <td>1.597516</td>\n",
       "      <td>-0.169432</td>\n",
       "      <td>-0.022853</td>\n",
       "      <td>1.610857</td>\n",
       "      <td>-0.161093</td>\n",
       "      <td>0.255111</td>\n",
       "      <td>1.611967</td>\n",
       "      <td>-0.147706</td>\n",
       "      <td>...</td>\n",
       "      <td>-0.306473</td>\n",
       "      <td>-0.363991</td>\n",
       "      <td>1.473708</td>\n",
       "      <td>0.249525</td>\n",
       "      <td>-0.496186</td>\n",
       "      <td>1.711561</td>\n",
       "      <td>0.237149</td>\n",
       "      <td>-0.415915</td>\n",
       "      <td>1.714518</td>\n",
       "      <td>8.0</td>\n",
       "    </tr>\n",
       "  </tbody>\n",
       "</table>\n",
       "<p>32688 rows × 1126 columns</p>\n",
       "</div>"
      ],
      "text/plain": [
       "           x0_0      y0_0      z0_0      x1_0      y1_0      z1_0      x2_0  \\\n",
       "0     -0.204509 -0.231852  2.754740 -0.183313  0.021745  2.722442 -0.160604   \n",
       "1     -0.205910 -0.231284  2.753148 -0.183092  0.022023  2.721940 -0.157748   \n",
       "2     -0.206187 -0.230854  2.752944 -0.181606  0.022386  2.722124 -0.154308   \n",
       "3     -0.206352 -0.229995  2.752958 -0.179751  0.022750  2.722315 -0.150479   \n",
       "4     -0.206131 -0.228837  2.753482 -0.178426  0.023735  2.722597 -0.148413   \n",
       "...         ...       ...       ...       ...       ...       ...       ...   \n",
       "32683 -0.219653 -0.105181  2.018542 -0.223143  0.185314  1.958439 -0.223866   \n",
       "32684 -0.154176 -0.093990  2.064927 -0.139104  0.218614  2.044824 -0.122276   \n",
       "32685  0.101330 -0.366173  2.099115  0.149896 -0.034787  2.102345  0.194262   \n",
       "32686 -0.262099  0.046881  2.249739 -0.261621  0.337878  2.193943 -0.257131   \n",
       "32687 -0.176911 -0.310305  1.597516 -0.169432 -0.022853  1.610857 -0.161093   \n",
       "\n",
       "           y2_0      z2_0      x3_0  ...    x22_14    y22_14    z22_14  \\\n",
       "0      0.269536  2.678496 -0.150488  ... -0.294275 -0.228529  2.467200   \n",
       "1      0.269648  2.678936 -0.148618  ... -0.322549 -0.229593  2.531100   \n",
       "2      0.269743  2.679503 -0.146234  ... -0.312972 -0.244179  2.513334   \n",
       "3      0.269884  2.679807 -0.144726  ... -0.291575 -0.203919  2.489133   \n",
       "4      0.270744  2.680139 -0.143232  ... -0.211119 -0.166091  2.883111   \n",
       "...         ...       ...       ...  ...       ...       ...       ...   \n",
       "32683  0.465150  1.885464 -0.216167  ... -0.226217 -0.018966  2.595732   \n",
       "32684  0.519363  2.010910 -0.112494  ... -0.216650 -0.070948  2.321689   \n",
       "32685  0.284618  2.090462  0.205277  ... -0.084552 -0.367176  1.956440   \n",
       "32686  0.618980  2.128328 -0.264669  ... -0.445879  0.036046  2.029431   \n",
       "32687  0.255111  1.611967 -0.147706  ... -0.306473 -0.363991  1.473708   \n",
       "\n",
       "         x23_14    y23_14    z23_14    x24_14    y24_14    z24_14  \\\n",
       "0      0.051053  0.284080  2.547323  0.084085  0.233071  2.580800   \n",
       "1     -0.000089  0.298676  2.598341  0.024250  0.252613  2.579778   \n",
       "2      0.077471  0.253935  2.508044  0.110522  0.192595  2.562273   \n",
       "3      0.225467 -0.076853  2.423342  0.153054 -0.086606  2.446333   \n",
       "4      0.124102 -0.292121  3.011770  0.076095 -0.245350  3.013428   \n",
       "...         ...       ...       ...       ...       ...       ...   \n",
       "32683  0.122220 -0.112569  2.738988  0.092191 -0.062385  2.698345   \n",
       "32684  0.162953 -0.145700  2.378738  0.126439 -0.092569  2.354894   \n",
       "32685  0.439100 -0.409055  2.031457  0.437779 -0.307294  1.968705   \n",
       "32686  0.041998  0.010592  2.118642  0.055779  0.060975  2.059983   \n",
       "32687  0.249525 -0.496186  1.711561  0.237149 -0.415915  1.714518   \n",
       "\n",
       "       gestureLabel  \n",
       "0               0.0  \n",
       "1               0.0  \n",
       "2               0.0  \n",
       "3               0.0  \n",
       "4               0.0  \n",
       "...             ...  \n",
       "32683           8.0  \n",
       "32684           8.0  \n",
       "32685           8.0  \n",
       "32686           8.0  \n",
       "32687           8.0  \n",
       "\n",
       "[32688 rows x 1126 columns]"
      ]
     },
     "execution_count": 39,
     "metadata": {},
     "output_type": "execute_result"
    }
   ],
   "source": [
    "dataset_filename = 'final_dataset_volume_1.csv'\n",
    "dataset = pd.read_csv(dataset_filename)\n",
    "dataset"
   ]
  },
  {
   "cell_type": "markdown",
   "id": "e0c3ee45-ca74-4f1e-a330-00f83f5d5aa0",
   "metadata": {},
   "source": [
    "# 3. <u>Train Test Split</u>"
   ]
  },
  {
   "cell_type": "code",
   "execution_count": 40,
   "id": "4fa5e628-9298-4009-a842-4dcaabca1a25",
   "metadata": {},
   "outputs": [
    {
     "name": "stdout",
     "output_type": "stream",
     "text": [
      "[[1 0 0 ... 0 0 0]\n",
      " [1 0 0 ... 0 0 0]\n",
      " [1 0 0 ... 0 0 0]\n",
      " ...\n",
      " [0 0 0 ... 0 0 1]\n",
      " [0 0 0 ... 0 0 1]\n",
      " [0 0 0 ... 0 0 1]]\n",
      "           x0_0      y0_0      z0_0      x1_0      y1_0      z1_0      x2_0  \\\n",
      "26926  0.147499 -0.193453  2.218697  0.169952  0.061658  2.241388  0.189679   \n",
      "17436  0.018765  0.004589  2.006787  0.022774  0.247115  2.087340  0.026778   \n",
      "8769  -0.064507 -0.197007  2.402838 -0.054132  0.058129  2.435648 -0.044697   \n",
      "1741   0.155498 -0.022066  2.613422  0.156671  0.303828  2.589489  0.156789   \n",
      "12016 -0.189344 -0.118308  3.216219 -0.201748  0.126133  3.206132 -0.215935   \n",
      "...         ...       ...       ...       ...       ...       ...       ...   \n",
      "13417  0.176256  0.026942  2.608196  0.164937  0.333418  2.583388  0.151335   \n",
      "9216  -0.203041 -0.099717  2.014531 -0.206402  0.207369  1.989646 -0.208137   \n",
      "29738 -0.204126  0.103221  2.320808 -0.212054  0.436377  2.304944 -0.218778   \n",
      "26081  0.035817 -0.273392  1.931277  0.053011  0.009569  1.932170  0.069962   \n",
      "17257  0.031785  0.001804  2.040515  0.032750  0.243918  2.101621  0.034115   \n",
      "\n",
      "           y2_0      z2_0      x3_0  ...    z21_14    x22_14    y22_14  \\\n",
      "26926  0.310214  2.252114  0.186561  ...  2.327655 -0.138355 -0.295623   \n",
      "17436  0.481108  2.158110  0.062719  ...  1.857299 -0.444801  0.787664   \n",
      "8769   0.306355  2.458013 -0.086500  ...  1.807768 -0.282326  0.436549   \n",
      "1741   0.619039  2.552616  0.163525  ...  2.593926 -0.041797 -0.028347   \n",
      "12016  0.366202  3.183397 -0.179523  ...  2.934394 -0.351093 -0.198374   \n",
      "...         ...       ...       ...  ...       ...       ...       ...   \n",
      "13417  0.627865  2.545700  0.163118  ...  2.559351 -0.115654  0.026472   \n",
      "9216   0.502685  1.951525 -0.211804  ...  1.456297 -0.586477  0.237976   \n",
      "29738  0.756704  2.276412 -0.207687  ...  1.869653 -0.401551  0.642598   \n",
      "26081  0.284861  1.921703  0.087705  ...  2.722327 -0.408127  0.129970   \n",
      "17257  0.477559  2.150525  0.070281  ...  1.815686 -0.513457  0.725959   \n",
      "\n",
      "         z22_14    x23_14    y23_14    z23_14    x24_14    y24_14    z24_14  \n",
      "26926  2.303373  0.255519 -0.245804  1.908934  0.337402 -0.207194  1.946059  \n",
      "17436  1.865827  0.244998 -0.066140  1.847978  0.289963 -0.030270  1.962125  \n",
      "8769   1.887214  0.227317 -0.049727  2.137119  0.177188 -0.044664  2.173000  \n",
      "1741   2.542182  0.443915  0.249743  2.224477  0.460118  0.280276  2.261538  \n",
      "12016  2.969500  0.329992  0.663678  2.943366  0.272754  0.636618  2.928000  \n",
      "...         ...       ...       ...       ...       ...       ...       ...  \n",
      "13417  2.530333  0.669669  0.033833  2.579212  0.596543  0.102950  2.593000  \n",
      "9216   1.559667 -0.039112 -0.183148  1.957820 -0.004264 -0.159969  1.955191  \n",
      "29738  1.907194  0.024656 -0.024789  2.294808 -0.021575  0.045882  2.247242  \n",
      "26081  2.722417  0.191034  0.067805  2.779248  0.145978  0.117661  2.739095  \n",
      "17257  1.865221  0.244502 -0.066093  1.845925  0.300679  0.000909  1.950222  \n",
      "\n",
      "[26150 rows x 1125 columns]\n",
      "[[0 0 0 ... 0 0 1]\n",
      " [0 0 0 ... 0 0 0]\n",
      " [0 0 0 ... 0 0 0]\n",
      " ...\n",
      " [0 1 0 ... 0 0 0]\n",
      " [0 0 0 ... 0 0 1]\n",
      " [0 0 0 ... 0 0 0]]\n"
     ]
    }
   ],
   "source": [
    "features = dataset.iloc[:, :-1]\n",
    "labels = dataset.iloc[:,-1]\n",
    "\n",
    "categorical_labels = to_categorical(labels, num_classes = 9, dtype =\"int32\")\n",
    "print(categorical_labels)\n",
    "X_train, X_test, Y_train, Y_test = train_test_split(features, categorical_labels, test_size=0.2)\n",
    "print(X_train)\n",
    "print(Y_train)"
   ]
  },
  {
   "cell_type": "markdown",
   "id": "7c20c357-21d1-4200-953b-a20f055e729b",
   "metadata": {},
   "source": [
    "# 4. <u>Constructing the Neural Network </u>"
   ]
  },
  {
   "cell_type": "code",
   "execution_count": 41,
   "id": "aa306c63-d45d-4702-9c67-5e0308db28eb",
   "metadata": {},
   "outputs": [],
   "source": [
    "model = tf.keras.Sequential()\n",
    "model.add(Dense(1024, name='hidden-1', activation='relu', input_shape=(1125,)))\n",
    "model.add(Dense(1024, name='hidden-2', activation='relu'))\n",
    "model.add(Dense(512, name='hidden-3', activation='relu'))\n",
    "model.add(Dense(9, name='output', activation='softmax'))"
   ]
  },
  {
   "cell_type": "code",
   "execution_count": 42,
   "id": "7fd904d6-0f49-4116-b2fc-f6cd5576b416",
   "metadata": {},
   "outputs": [
    {
     "name": "stdout",
     "output_type": "stream",
     "text": [
      "Model: \"sequential_2\"\n",
      "_________________________________________________________________\n",
      " Layer (type)                Output Shape              Param #   \n",
      "=================================================================\n",
      " hidden-1 (Dense)            (None, 1024)              1153024   \n",
      "                                                                 \n",
      " hidden-2 (Dense)            (None, 1024)              1049600   \n",
      "                                                                 \n",
      " hidden-3 (Dense)            (None, 512)               524800    \n",
      "                                                                 \n",
      " output (Dense)              (None, 9)                 4617      \n",
      "                                                                 \n",
      "=================================================================\n",
      "Total params: 2,732,041\n",
      "Trainable params: 2,732,041\n",
      "Non-trainable params: 0\n",
      "_________________________________________________________________\n"
     ]
    }
   ],
   "source": [
    "model.summary()"
   ]
  },
  {
   "cell_type": "code",
   "execution_count": 43,
   "id": "4a860490-deb9-4961-927e-13caeda3f51a",
   "metadata": {},
   "outputs": [],
   "source": [
    "optimizer = Adam(learning_rate=0.0001)\n",
    "model.compile(optimizer=optimizer, loss=['categorical_crossentropy'], metrics=['accuracy'])"
   ]
  },
  {
   "cell_type": "code",
   "execution_count": 44,
   "id": "f1f77494-071c-47a6-83a3-513bf6aab2af",
   "metadata": {},
   "outputs": [],
   "source": [
    "callbacks = [\n",
    "    EarlyStopping(patience=2, verbose=1), \n",
    "    ReduceLROnPlateau(factor=0.5, patience=10, verbose=1, min_lr=0.00001, cooldown=2, min_delta=0.001)\n",
    "]"
   ]
  },
  {
   "cell_type": "code",
   "execution_count": 53,
   "id": "4aae7dbe-cccc-4d95-ad09-daa229c2a4c7",
   "metadata": {},
   "outputs": [
    {
     "name": "stdout",
     "output_type": "stream",
     "text": [
      "Epoch 1/500\n",
      "613/613 [==============================] - 6s 9ms/step - loss: 0.1509 - accuracy: 0.9416 - val_loss: 0.2079 - val_accuracy: 0.9260 - lr: 1.0000e-04\n",
      "Epoch 2/500\n",
      "613/613 [==============================] - 6s 9ms/step - loss: 0.1426 - accuracy: 0.9453 - val_loss: 0.1978 - val_accuracy: 0.9316 - lr: 1.0000e-04\n",
      "Epoch 3/500\n",
      "613/613 [==============================] - 6s 9ms/step - loss: 0.1333 - accuracy: 0.9493 - val_loss: 0.1237 - val_accuracy: 0.9555 - lr: 1.0000e-04\n",
      "Epoch 4/500\n",
      "613/613 [==============================] - 6s 9ms/step - loss: 0.1178 - accuracy: 0.9552 - val_loss: 0.1203 - val_accuracy: 0.9578 - lr: 1.0000e-04\n",
      "Epoch 5/500\n",
      "613/613 [==============================] - 6s 9ms/step - loss: 0.1264 - accuracy: 0.9528 - val_loss: 0.1040 - val_accuracy: 0.9610 - lr: 1.0000e-04\n",
      "Epoch 6/500\n",
      "613/613 [==============================] - 5s 9ms/step - loss: 0.1204 - accuracy: 0.9536 - val_loss: 0.1563 - val_accuracy: 0.9428 - lr: 1.0000e-04\n",
      "Epoch 7/500\n",
      "613/613 [==============================] - 6s 9ms/step - loss: 0.1167 - accuracy: 0.9550 - val_loss: 0.0996 - val_accuracy: 0.9639 - lr: 1.0000e-04\n",
      "Epoch 8/500\n",
      "613/613 [==============================] - 6s 9ms/step - loss: 0.1048 - accuracy: 0.9606 - val_loss: 0.1810 - val_accuracy: 0.9336 - lr: 1.0000e-04\n",
      "Epoch 9/500\n",
      "613/613 [==============================] - 5s 9ms/step - loss: 0.1067 - accuracy: 0.9600 - val_loss: 0.1202 - val_accuracy: 0.9544 - lr: 1.0000e-04\n",
      "Epoch 9: early stopping\n"
     ]
    }
   ],
   "source": [
    "model_history = model.fit(X_train, Y_train, epochs = 500, validation_split = 0.25, shuffle = True, callbacks = callbacks)"
   ]
  },
  {
   "cell_type": "code",
   "execution_count": 54,
   "id": "cc315c31-9742-43ee-8e0f-69286e12142e",
   "metadata": {},
   "outputs": [
    {
     "name": "stdout",
     "output_type": "stream",
     "text": [
      "205/205 [==============================] - 0s 1ms/step\n"
     ]
    }
   ],
   "source": [
    "y_pred = model.predict(X_test)\n",
    "score = model.evaluate(X_test, Y_test, verbose=0)"
   ]
  },
  {
   "cell_type": "code",
   "execution_count": 55,
   "id": "c385768c-3891-4b5d-95b6-554d651a8843",
   "metadata": {},
   "outputs": [
    {
     "name": "stdout",
     "output_type": "stream",
     "text": [
      "0.9596207141876221\n"
     ]
    }
   ],
   "source": [
    "print(score[1])"
   ]
  },
  {
   "cell_type": "code",
   "execution_count": 56,
   "id": "4842fa9d-5428-4366-a7f1-51fdf5d4d8c4",
   "metadata": {},
   "outputs": [
    {
     "data": {
      "text/plain": [
       "array([7, 8, 7, ..., 7, 3, 6])"
      ]
     },
     "execution_count": 56,
     "metadata": {},
     "output_type": "execute_result"
    }
   ],
   "source": [
    "# print(accuracy_score(y_pred, Y_test))\n",
    "# print(y_pred[0])\n",
    "y_pred_decoded = np.argmax(y_pred, axis=1)\n",
    "# y_pred\n",
    "y_pred_decoded"
   ]
  },
  {
   "cell_type": "code",
   "execution_count": 57,
   "id": "7df37dd8-90bf-4046-941d-1512e9a30dc9",
   "metadata": {},
   "outputs": [
    {
     "data": {
      "text/plain": [
       "array([7, 8, 7, ..., 7, 3, 6])"
      ]
     },
     "execution_count": 57,
     "metadata": {},
     "output_type": "execute_result"
    }
   ],
   "source": [
    "Y_test_decoded = np.argmax(Y_test, axis=1)\n",
    "Y_test_decoded"
   ]
  },
  {
   "cell_type": "code",
   "execution_count": 58,
   "id": "c7d5e2bf-dfab-4b3a-a57d-e8206cefd58f",
   "metadata": {},
   "outputs": [
    {
     "name": "stdout",
     "output_type": "stream",
     "text": [
      "              precision    recall  f1-score   support\n",
      "\n",
      "           0       0.97      0.99      0.98       702\n",
      "           1       0.96      0.94      0.95       731\n",
      "           2       0.92      0.98      0.95       682\n",
      "           3       0.94      0.94      0.94       717\n",
      "           4       0.98      0.93      0.95       747\n",
      "           5       0.96      0.90      0.93       800\n",
      "           6       0.99      1.00      1.00       700\n",
      "           7       0.95      0.98      0.96       714\n",
      "           8       0.97      0.99      0.98       745\n",
      "\n",
      "    accuracy                           0.96      6538\n",
      "   macro avg       0.96      0.96      0.96      6538\n",
      "weighted avg       0.96      0.96      0.96      6538\n",
      "\n"
     ]
    }
   ],
   "source": [
    "print(classification_report(y_pred_decoded, Y_test_decoded))"
   ]
  },
  {
   "cell_type": "markdown",
   "id": "8f8ae32d-dc2c-4791-91c4-7ca403afe822",
   "metadata": {},
   "source": [
    "# 5. <u>Plotting Model Accuracy and Loss Function Against Number of Epochs</u>"
   ]
  },
  {
   "cell_type": "code",
   "execution_count": 62,
   "id": "2294948e-e82e-448b-b3e1-22b8272723af",
   "metadata": {},
   "outputs": [
    {
     "data": {
      "image/png": "[encoded data removed]",
      "text/plain": [
       "<Figure size 640x480 with 1 Axes>"
      ]
     },
     "metadata": {},
     "output_type": "display_data"
    }
   ],
   "source": [
    "plt.plot(model_history.history['accuracy'])\n",
    "plt.plot(model_history.history['val_accuracy'])\n",
    "plt.title('model accuracy')\n",
    "plt.ylabel('accuracy')\n",
    "plt.xlabel('epoch')\n",
    "plt.legend(['train', 'test'], loc='upper left')\n",
    "plt.show()"
   ]
  },
  {
   "cell_type": "code",
   "execution_count": 63,
   "id": "33c1beb4-4f68-4bc6-aae6-33f0dff8124c",
   "metadata": {},
   "outputs": [
    {
     "data": {
      "image/png": "[encoded data removed]",
      "text/plain": [
       "<Figure size 640x480 with 1 Axes>"
      ]
     },
     "metadata": {},
     "output_type": "display_data"
    }
   ],
   "source": [
    "# summarize history for loss\n",
    "plt.plot(model_history.history['loss'])\n",
    "plt.plot(model_history.history['val_loss'])\n",
    "plt.title('model loss')\n",
    "plt.ylabel('loss')\n",
    "plt.xlabel('epoch')\n",
    "plt.legend(['train', 'test'], loc='upper left')\n",
    "plt.show()"
   ]
  }
 ],
 "metadata": {
  "kernelspec": {
   "display_name": "Python 3 (ipykernel)",
   "language": "python",
   "name": "python3"
  },
  "language_info": {
   "codemirror_mode": {
    "name": "ipython",
    "version": 3
   },
   "file_extension": ".py",
   "mimetype": "text/x-python",
   "name": "python",
   "nbconvert_exporter": "python",
   "pygments_lexer": "ipython3",
   "version": "3.8.15"
  }
 },
 "nbformat": 4,
 "nbformat_minor": 5
}
