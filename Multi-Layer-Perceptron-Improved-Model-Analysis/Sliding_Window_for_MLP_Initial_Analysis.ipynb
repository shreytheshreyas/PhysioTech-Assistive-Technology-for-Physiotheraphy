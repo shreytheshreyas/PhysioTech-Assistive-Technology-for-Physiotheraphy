{
 "cells": [
  {
   "cell_type": "code",
   "execution_count": 3,
   "id": "1cf11120",
   "metadata": {},
   "outputs": [],
   "source": [
    "import pandas as pd\n",
    "import numpy as np\n",
    "import os"
   ]
  },
  {
   "cell_type": "code",
   "execution_count": 20,
   "id": "7b824c60",
   "metadata": {},
   "outputs": [
    {
     "name": "stdout",
     "output_type": "stream",
     "text": [
      "9\n"
     ]
    }
   ],
   "source": [
    "window_size = 15\n",
    "jump = 5\n",
    "\n",
    "dfs = [None] * 9\n",
    "for p_id in range(9):\n",
    "    directory = f'./final_dataset_in_diff_pos/finalDataset_{p_id}'\n",
    "    full_dataset = []\n",
    "    for filename in os.listdir(directory):\n",
    "        fileData = pd.read_csv(os.path.join(directory, filename))\n",
    "        for r in range(0, len(fileData) - window_size, jump):\n",
    "            full_dataset.append(fileData.iloc[r:r+window_size, :-6].stack().to_frame().T)\n",
    "            labels = pd.DataFrame(fileData.iloc[r, -1:].values.reshape(1, 1))\n",
    "            full_dataset[-1] = pd.concat([full_dataset[-1], labels], axis=1)\n",
    "\n",
    "    full_dataset = np.concatenate(full_dataset, axis=0)\n",
    "\n",
    "    cols = []\n",
    "    for w in range(window_size):\n",
    "        for i in range(25):\n",
    "            cols.append(f'x{i}_{w}')\n",
    "            cols.append(f'y{i}_{w}')\n",
    "            cols.append(f'z{i}_{w}')\n",
    "    # cols.extend(['stand','stand-frame','sit','chair','wheelchair','gestureLabel', 'position'])\n",
    "    cols.append('gestureLabel')\n",
    "    # print(cols)\n",
    "    # print(len(cols))\n",
    "\n",
    "    full_dataset = pd.DataFrame(full_dataset, columns=cols)\n",
    "    # print(full_dataset['position'])\n",
    "\n",
    "    dfs[p_id] = full_dataset\n",
    "    # print(full_dataset.shape)\n",
    "    # print(len(full_dataset))\n",
    "    # print(full_dataset)\n",
    "\n",
    "print(len(dfs))\n",
    "\n"
   ]
  },
  {
   "cell_type": "code",
   "execution_count": 21,
   "id": "33b1f0d5-bfc2-4067-ad17-e67405121209",
   "metadata": {},
   "outputs": [],
   "source": [
    "dfs = pd.concat(dfs, axis = 0)"
   ]
  },
  {
   "cell_type": "code",
   "execution_count": 22,
   "id": "a0531ab3-75c5-468f-ad3d-357924014474",
   "metadata": {},
   "outputs": [
    {
     "data": {
      "text/plain": [
       "6.0    3632\n",
       "4.0    3603\n",
       "2.0    3374\n",
       "8.0    3191\n",
       "5.0    3081\n",
       "7.0    2852\n",
       "3.0    2803\n",
       "1.0    2647\n",
       "0.0    2303\n",
       "Name: gestureLabel, dtype: int64"
      ]
     },
     "execution_count": 22,
     "metadata": {},
     "output_type": "execute_result"
    }
   ],
   "source": [
    "dfs['gestureLabel'].value_counts()"
   ]
  },
  {
   "cell_type": "code",
   "execution_count": 6,
   "id": "5cba246f",
   "metadata": {},
   "outputs": [
    {
     "name": "stdout",
     "output_type": "stream",
     "text": [
      "(2303, 1132)\n",
      "Index(['x0_0', 'y0_0', 'z0_0', 'x1_0', 'y1_0', 'z1_0', 'x2_0', 'y2_0', 'z2_0',\n",
      "       'x3_0',\n",
      "       ...\n",
      "       'x24_14', 'y24_14', 'z24_14', 'stand', 'stand-frame', 'sit', 'chair',\n",
      "       'wheelchair', 'gestureLabel', 'position'],\n",
      "      dtype='object', length=1132)\n",
      "(2647, 1132)\n",
      "Index(['x0_0', 'y0_0', 'z0_0', 'x1_0', 'y1_0', 'z1_0', 'x2_0', 'y2_0', 'z2_0',\n",
      "       'x3_0',\n",
      "       ...\n",
      "       'x24_14', 'y24_14', 'z24_14', 'stand', 'stand-frame', 'sit', 'chair',\n",
      "       'wheelchair', 'gestureLabel', 'position'],\n",
      "      dtype='object', length=1132)\n",
      "(3374, 1132)\n",
      "Index(['x0_0', 'y0_0', 'z0_0', 'x1_0', 'y1_0', 'z1_0', 'x2_0', 'y2_0', 'z2_0',\n",
      "       'x3_0',\n",
      "       ...\n",
      "       'x24_14', 'y24_14', 'z24_14', 'stand', 'stand-frame', 'sit', 'chair',\n",
      "       'wheelchair', 'gestureLabel', 'position'],\n",
      "      dtype='object', length=1132)\n",
      "(2803, 1132)\n",
      "Index(['x0_0', 'y0_0', 'z0_0', 'x1_0', 'y1_0', 'z1_0', 'x2_0', 'y2_0', 'z2_0',\n",
      "       'x3_0',\n",
      "       ...\n",
      "       'x24_14', 'y24_14', 'z24_14', 'stand', 'stand-frame', 'sit', 'chair',\n",
      "       'wheelchair', 'gestureLabel', 'position'],\n",
      "      dtype='object', length=1132)\n",
      "(3603, 1132)\n",
      "Index(['x0_0', 'y0_0', 'z0_0', 'x1_0', 'y1_0', 'z1_0', 'x2_0', 'y2_0', 'z2_0',\n",
      "       'x3_0',\n",
      "       ...\n",
      "       'x24_14', 'y24_14', 'z24_14', 'stand', 'stand-frame', 'sit', 'chair',\n",
      "       'wheelchair', 'gestureLabel', 'position'],\n",
      "      dtype='object', length=1132)\n",
      "(3081, 1132)\n",
      "Index(['x0_0', 'y0_0', 'z0_0', 'x1_0', 'y1_0', 'z1_0', 'x2_0', 'y2_0', 'z2_0',\n",
      "       'x3_0',\n",
      "       ...\n",
      "       'x24_14', 'y24_14', 'z24_14', 'stand', 'stand-frame', 'sit', 'chair',\n",
      "       'wheelchair', 'gestureLabel', 'position'],\n",
      "      dtype='object', length=1132)\n",
      "(3632, 1132)\n",
      "Index(['x0_0', 'y0_0', 'z0_0', 'x1_0', 'y1_0', 'z1_0', 'x2_0', 'y2_0', 'z2_0',\n",
      "       'x3_0',\n",
      "       ...\n",
      "       'x24_14', 'y24_14', 'z24_14', 'stand', 'stand-frame', 'sit', 'chair',\n",
      "       'wheelchair', 'gestureLabel', 'position'],\n",
      "      dtype='object', length=1132)\n",
      "(2852, 1132)\n",
      "Index(['x0_0', 'y0_0', 'z0_0', 'x1_0', 'y1_0', 'z1_0', 'x2_0', 'y2_0', 'z2_0',\n",
      "       'x3_0',\n",
      "       ...\n",
      "       'x24_14', 'y24_14', 'z24_14', 'stand', 'stand-frame', 'sit', 'chair',\n",
      "       'wheelchair', 'gestureLabel', 'position'],\n",
      "      dtype='object', length=1132)\n",
      "(3191, 1132)\n",
      "Index(['x0_0', 'y0_0', 'z0_0', 'x1_0', 'y1_0', 'z1_0', 'x2_0', 'y2_0', 'z2_0',\n",
      "       'x3_0',\n",
      "       ...\n",
      "       'x24_14', 'y24_14', 'z24_14', 'stand', 'stand-frame', 'sit', 'chair',\n",
      "       'wheelchair', 'gestureLabel', 'position'],\n",
      "      dtype='object', length=1132)\n"
     ]
    }
   ],
   "source": [
    "for i in range(9):\n",
    "    print(dfs[i].shape)\n",
    "    print(dfs[i].columns)"
   ]
  },
  {
   "cell_type": "markdown",
   "id": "33da38a9",
   "metadata": {},
   "source": [
    "Oversampling based on feature instead of label can be a useful technique in certain scenarios, but whether it is a good practice or not depends on the specifics of the problem at hand.\n",
    "In general, oversampling based on feature can be beneficial if a particular feature is essential in distinguishing between the classes, and there is a significant imbalance in the number of instances of the minority class with that feature. By generating synthetic samples for that feature, we can improve the model's ability to recognize the minority class and reduce the risk of misclassification.\n",
    "However, it's important to be careful when oversampling based on a feature, as it can lead to overfitting if the feature is not a reliable indicator of class membership. Moreover, oversampling based on feature may not always be necessary or effective, especially if the imbalance is not severe or if the feature is not crucial in distinguishing between the classes.\n",
    "Therefore, oversampling based on feature should be evaluated on a case-by-case basis, taking into consideration the specific problem and the quality of the data. It's also essential to compare the results with other sampling methods and evaluate the performance of the resulting model to determine whether oversampling based on feature is a good practice in a given scenario."
   ]
  },
  {
   "cell_type": "code",
   "execution_count": 78,
   "id": "7168e8ed",
   "metadata": {},
   "outputs": [
    {
     "name": "stdout",
     "output_type": "stream",
     "text": [
      "(5140, 1132)\n",
      "3.0    1028\n",
      "5.0    1028\n",
      "2.0    1028\n",
      "4.0    1028\n",
      "1.0    1028\n",
      "Name: position, dtype: int64\n",
      "(6425, 1132)\n",
      "1.0    1285\n",
      "4.0    1285\n",
      "2.0    1285\n",
      "5.0    1285\n",
      "3.0    1285\n",
      "Name: position, dtype: int64\n",
      "(6775, 1132)\n",
      "4.0    1355\n",
      "1.0    1355\n",
      "2.0    1355\n",
      "5.0    1355\n",
      "3.0    1355\n",
      "Name: position, dtype: int64\n",
      "(6045, 1132)\n",
      "3.0    1209\n",
      "5.0    1209\n",
      "2.0    1209\n",
      "1.0    1209\n",
      "4.0    1209\n",
      "Name: position, dtype: int64\n",
      "(9445, 1132)\n",
      "3.0    1889\n",
      "5.0    1889\n",
      "2.0    1889\n",
      "4.0    1889\n",
      "1.0    1889\n",
      "Name: position, dtype: int64\n",
      "(6770, 1132)\n",
      "1.0    1354\n",
      "4.0    1354\n",
      "2.0    1354\n",
      "5.0    1354\n",
      "3.0    1354\n",
      "Name: position, dtype: int64\n",
      "(9440, 1132)\n",
      "4.0    1888\n",
      "1.0    1888\n",
      "2.0    1888\n",
      "5.0    1888\n",
      "3.0    1888\n",
      "Name: position, dtype: int64\n",
      "(7620, 1132)\n",
      "3.0    1524\n",
      "5.0    1524\n",
      "2.0    1524\n",
      "1.0    1524\n",
      "4.0    1524\n",
      "Name: position, dtype: int64\n",
      "(10400, 1132)\n",
      "2.0    2080\n",
      "1.0    2080\n",
      "4.0    2080\n",
      "3.0    2080\n",
      "5.0    2080\n",
      "Name: position, dtype: int64\n"
     ]
    }
   ],
   "source": [
    "\n",
    "# from imblearn.over_sampling import SMOTE\n",
    "# from imblearn.under_sampling import RandomUnderSampler\n",
    "\n",
    "# oversample = SMOTE()\n",
    "# for i in range(9):\n",
    "#     features, position = oversample.fit_resample(dfs[i].iloc[:, :-1], dfs[i].iloc[:, -1])\n",
    "\n",
    "#     smote_df = pd.concat([features, position], axis=1)\n",
    "#     print(smote_df.shape)\n",
    "\n",
    "#     print(smote_df.iloc[:, -1].value_counts())\n",
    "\n",
    "#     features.to_csv(f'finalDataset_window_oversampled_{i}.csv', index=False, header=True)\n",
    "\n"
   ]
  },
  {
   "cell_type": "code",
   "execution_count": 84,
   "id": "251b7702",
   "metadata": {},
   "outputs": [
    {
     "name": "stdout",
     "output_type": "stream",
     "text": [
      "(5140, 1131)\n",
      "(6425, 1131)\n",
      "(6775, 1131)\n",
      "(6045, 1131)\n",
      "(9445, 1131)\n",
      "(6770, 1131)\n",
      "(9440, 1131)\n",
      "(7620, 1131)\n",
      "(10400, 1131)\n",
      "(68060, 1131)\n",
      "Index(['x0_0', 'y0_0', 'z0_0', 'x1_0', 'y1_0', 'z1_0', 'x2_0', 'y2_0', 'z2_0',\n",
      "       'x3_0',\n",
      "       ...\n",
      "       'z23_14', 'x24_14', 'y24_14', 'z24_14', 'stand', 'stand-frame', 'sit',\n",
      "       'chair', 'wheelchair', 'gestureLabel'],\n",
      "      dtype='object', length=1131)\n"
     ]
    }
   ],
   "source": [
    "full_dataset = []\n",
    "for i in range(9):\n",
    "    directory = f'./finalDataset_window_oversampled_{i}.csv'\n",
    "    fileData = pd.read_csv(directory)\n",
    "    print(fileData.shape)\n",
    "    full_dataset.append(fileData)\n",
    "full_dataset = pd.concat(full_dataset, axis=0)\n",
    "print(full_dataset.shape)\n",
    "print(full_dataset.columns)"
   ]
  },
  {
   "cell_type": "code",
   "execution_count": 23,
   "id": "eea5b49f",
   "metadata": {},
   "outputs": [
    {
     "name": "stdout",
     "output_type": "stream",
     "text": [
      "6.0    3632\n",
      "4.0    3603\n",
      "2.0    3374\n",
      "8.0    3191\n",
      "5.0    3081\n",
      "7.0    2852\n",
      "3.0    2803\n",
      "1.0    2647\n",
      "0.0    2303\n",
      "Name: gestureLabel, dtype: int64\n",
      "(32688, 1126)\n",
      "0.0    3632\n",
      "1.0    3632\n",
      "2.0    3632\n",
      "3.0    3632\n",
      "4.0    3632\n",
      "5.0    3632\n",
      "6.0    3632\n",
      "7.0    3632\n",
      "8.0    3632\n",
      "Name: gestureLabel, dtype: int64\n"
     ]
    }
   ],
   "source": [
    "from imblearn.over_sampling import SMOTE\n",
    "from imblearn.under_sampling import RandomUnderSampler\n",
    "\n",
    "print(dfs['gestureLabel'].value_counts())\n",
    "\n",
    "oversample = SMOTE()\n",
    "features, labels = oversample.fit_resample(dfs.iloc[:, :-1], dfs.iloc[:, -1])\n",
    "\n",
    "smote_df = pd.concat([features, labels], axis=1)\n",
    "print(smote_df.shape)\n",
    "print(smote_df['gestureLabel'].value_counts())\n"
   ]
  },
  {
   "cell_type": "code",
   "execution_count": 24,
   "id": "d280624c",
   "metadata": {},
   "outputs": [],
   "source": [
    "smote_df.to_csv(f'final_dataset_volume_1.csv', index=False, header=True)"
   ]
  }
 ],
 "metadata": {
  "kernelspec": {
   "display_name": "Python 3 (ipykernel)",
   "language": "python",
   "name": "python3"
  },
  "language_info": {
   "codemirror_mode": {
    "name": "ipython",
    "version": 3
   },
   "file_extension": ".py",
   "mimetype": "text/x-python",
   "name": "python",
   "nbconvert_exporter": "python",
   "pygments_lexer": "ipython3",
   "version": "3.8.15"
  }
 },
 "nbformat": 4,
 "nbformat_minor": 5
}
