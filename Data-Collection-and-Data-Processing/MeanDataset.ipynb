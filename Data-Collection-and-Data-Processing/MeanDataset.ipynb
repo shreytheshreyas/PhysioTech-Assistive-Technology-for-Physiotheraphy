{
 "cells": [
  {
   "cell_type": "code",
   "execution_count": 1,
   "id": "200168e4",
   "metadata": {},
   "outputs": [],
   "source": [
    "import pandas as pd\n",
    "import numpy as np\n",
    "import os"
   ]
  },
  {
   "cell_type": "code",
   "execution_count": 2,
   "id": "bb37c462",
   "metadata": {
    "scrolled": true
   },
   "outputs": [
    {
     "name": "stdout",
     "output_type": "stream",
     "text": [
      "finalDataset_5_encoded.csv\n",
      ".DS_Store\n",
      "finalDataset_0_encoded.csv\n",
      "finalDataset_3_encoded.csv\n",
      "finalDataset_6_encoded.csv\n",
      "finalDataset_1_encoded.csv\n",
      "finalDataset_8_encoded.csv\n",
      "finalDataset_4_encoded.csv\n",
      "finalDataset_7_encoded.csv\n",
      "finalDataset_2_encoded.csv\n"
     ]
    }
   ],
   "source": [
    "directory = './EncodedDataset'\n",
    "headers = []\n",
    "for i in range(25):\n",
    "    headers.append(f'x{i}')\n",
    "    headers.append(f'y{i}')\n",
    "    headers.append(f'z{i}')\n",
    "headers.append('stand')\n",
    "headers.append('stand-frame')\n",
    "headers.append('sit')\n",
    "headers.append('chair')\n",
    "headers.append('wheelchair')\n",
    "headers.append('gestureLabel')\n",
    "\n",
    "for filename in os.listdir(directory):\n",
    "    print(filename)\n",
    "    if filename[0] == '.':\n",
    "        continue\n",
    "    fileData = pd.read_csv(os.path.join(directory, filename))\n",
    "    aggregatedFileData = []\n",
    "    newData = []\n",
    "    count = 0\n",
    "    prev_position = fileData.iloc[0, -6:-1]\n",
    "    for row in range(len(fileData)):\n",
    "        if all(prev_position != fileData.iloc[row, -6:-1]) or count == 10:\n",
    "            sumData = pd.DataFrame(newData).mean(axis = 0)\n",
    "            aggregatedFileData.append(sumData)\n",
    "            newData = []\n",
    "            count = 0\n",
    "        newData.append(fileData.iloc[row])\n",
    "        prev_position = fileData.iloc[row, -6:-1]\n",
    "        count +=1\n",
    "    pd.DataFrame(aggregatedFileData).to_csv(f'{filename[:-4]}_aggregated.csv', index=False, header=headers)\n"
   ]
  },
  {
   "cell_type": "code",
   "execution_count": null,
   "id": "c594fd46",
   "metadata": {},
   "outputs": [],
   "source": []
  }
 ],
 "metadata": {
  "kernelspec": {
   "display_name": "Python 3 (ipykernel)",
   "language": "python",
   "name": "python3"
  },
  "language_info": {
   "codemirror_mode": {
    "name": "ipython",
    "version": 3
   },
   "file_extension": ".py",
   "mimetype": "text/x-python",
   "name": "python",
   "nbconvert_exporter": "python",
   "pygments_lexer": "ipython3",
   "version": "3.9.16"
  }
 },
 "nbformat": 4,
 "nbformat_minor": 5
}
