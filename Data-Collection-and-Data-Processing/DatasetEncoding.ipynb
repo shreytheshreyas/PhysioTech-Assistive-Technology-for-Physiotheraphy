{
 "cells": [
  {
   "cell_type": "code",
   "execution_count": 14,
   "id": "93efd778",
   "metadata": {},
   "outputs": [
    {
     "name": "stdout",
     "output_type": "stream",
     "text": [
      ".DS_Store\n",
      "finalDataset_3.csv\n",
      "finalDataset_2.csv\n",
      "finalDataset_0.csv\n",
      "finalDataset_1.csv\n",
      "finalDataset_5.csv\n",
      "finalDataset_4.csv\n",
      "finalDataset_6.csv\n",
      "finalDataset_7.csv\n",
      "finalDataset_8.csv\n",
      ".ipynb_checkpoints\n"
     ]
    }
   ],
   "source": [
    "import pandas as pd\n",
    "import numpy as np\n",
    "import os\n",
    "\n",
    "directory = './CleanedCollectedData'\n",
    "for filename in os.listdir(directory):\n",
    "    print(filename)\n",
    "    if filename[0] == '.':\n",
    "        continue\n",
    "    fileData = pd.read_csv(os.path.join(directory, filename))\n",
    "    stand = [0] * len(fileData)\n",
    "    stand_frame = [0] * len(fileData)\n",
    "    sit = [0] * len(fileData)\n",
    "    chair = [0] * len(fileData)\n",
    "    wheelchair = [0] * len(fileData)\n",
    "    positions = [stand, stand_frame, sit, chair, wheelchair]\n",
    "    i = 0\n",
    "    for j in fileData['position']:\n",
    "        positions[j][i] = 1\n",
    "        i += 1\n",
    "    del fileData['position']\n",
    "    getureLabel = fileData['gestureLabel']\n",
    "    del fileData['gestureLabel']\n",
    "    fileData['stand'] = stand\n",
    "    fileData['stand-frame'] = stand_frame\n",
    "    fileData['sit'] = sit\n",
    "    fileData['chair'] = chair\n",
    "    fileData['wheelchair'] = wheelchair\n",
    "    fileData['gestureLabel'] = getureLabel\n",
    "    fileData.to_csv(f'{filename[:-4]}_encoded.csv', index=False)\n"
   ]
  },
  {
   "cell_type": "code",
   "execution_count": null,
   "id": "30df0af3",
   "metadata": {},
   "outputs": [],
   "source": []
  }
 ],
 "metadata": {
  "kernelspec": {
   "display_name": "Python 3 (ipykernel)",
   "language": "python",
   "name": "python3"
  },
  "language_info": {
   "codemirror_mode": {
    "name": "ipython",
    "version": 3
   },
   "file_extension": ".py",
   "mimetype": "text/x-python",
   "name": "python",
   "nbconvert_exporter": "python",
   "pygments_lexer": "ipython3",
   "version": "3.9.16"
  }
 },
 "nbformat": 4,
 "nbformat_minor": 5
}
